{
 "cells": [
  {
   "cell_type": "code",
   "execution_count": 1,
   "id": "ff2d0ed8",
   "metadata": {},
   "outputs": [],
   "source": [
    "import librosa\n",
    "import librosa.display\n",
    "import numpy as np\n",
    "import os\n",
    "import statistics \n",
    "from tqdm.notebook import tqdm"
   ]
  },
  {
   "cell_type": "code",
   "execution_count": 2,
   "id": "8ec5e2a4",
   "metadata": {},
   "outputs": [],
   "source": [
    "l = os.listdir('Train np 2')"
   ]
  },
  {
   "cell_type": "code",
   "execution_count": 3,
   "id": "0b5ef74d",
   "metadata": {},
   "outputs": [],
   "source": [
    "lis=[]\n",
    "for arch in l:\n",
    "    if arch.startswith('x_'):\n",
    "        lis.append(arch)"
   ]
  },
  {
   "cell_type": "code",
   "execution_count": 4,
   "id": "71455092",
   "metadata": {},
   "outputs": [
    {
     "name": "stdout",
     "output_type": "stream",
     "text": [
      "(10936, 252)\n"
     ]
    }
   ],
   "source": [
    "X = np.load('Train np 2/'+lis[0])\n",
    "print(X.shape)\n",
    "for i in range(1,len(lis)):\n",
    "    x = np.load('Train np 2/'+lis[i])\n",
    "    X = np.concatenate((X,x), axis=0)"
   ]
  },
  {
   "cell_type": "code",
   "execution_count": 5,
   "id": "887bccc8",
   "metadata": {},
   "outputs": [],
   "source": [
    "X_t = (X-X.min())/(X.max()-X.min())"
   ]
  },
  {
   "cell_type": "code",
   "execution_count": 25,
   "id": "129a4595",
   "metadata": {},
   "outputs": [
    {
     "data": {
      "text/plain": [
       "(4248705, 252)"
      ]
     },
     "execution_count": 25,
     "metadata": {},
     "output_type": "execute_result"
    }
   ],
   "source": [
    "X_m.shape"
   ]
  },
  {
   "cell_type": "code",
   "execution_count": 6,
   "id": "106db768",
   "metadata": {},
   "outputs": [],
   "source": [
    "np.save('Res 2/x_mean.npy', np.mean(X_t,axis=0))\n",
    "np.save('Res 2/x_min.npy', np.min(X))\n",
    "np.save('Res 2/x_max.npy', np.max(X))"
   ]
  }
 ],
 "metadata": {
  "kernelspec": {
   "display_name": "Python 3 (ipykernel)",
   "language": "python",
   "name": "python3"
  },
  "language_info": {
   "codemirror_mode": {
    "name": "ipython",
    "version": 3
   },
   "file_extension": ".py",
   "mimetype": "text/x-python",
   "name": "python",
   "nbconvert_exporter": "python",
   "pygments_lexer": "ipython3",
   "version": "3.7.9"
  }
 },
 "nbformat": 4,
 "nbformat_minor": 5
}
