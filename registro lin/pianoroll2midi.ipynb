{
 "cells": [
  {
   "cell_type": "code",
   "execution_count": null,
   "id": "7ac6c8c4",
   "metadata": {},
   "outputs": [],
   "source": [
    "import numpy as np\n",
    "import sys\n",
    "import os\n",
    "import librosa\n",
    "import sys\n",
    "from scipy.io import savemat\n",
    "from midiutil import MIDIFile"
   ]
  },
  {
   "cell_type": "code",
   "execution_count": null,
   "id": "cc60a132",
   "metadata": {},
   "outputs": [],
   "source": [
    "MyMIDI = MIDIFile(1)"
   ]
  },
  {
   "cell_type": "code",
   "execution_count": null,
   "id": "30aba0c3",
   "metadata": {},
   "outputs": [],
   "source": [
    "track    = 0\n",
    "channel  = 0\n",
    "time     = 0    # In beats\n",
    "duration = 1    # In beats\n",
    "tempo    = 75   # In BPM\n",
    "volume   = 100  # 0-127, as per the MIDI standard"
   ]
  },
  {
   "cell_type": "code",
   "execution_count": null,
   "id": "1e733527",
   "metadata": {},
   "outputs": [],
   "source": [
    "MyMIDI.addTempo(track, time, tempo)"
   ]
  },
  {
   "cell_type": "code",
   "execution_count": null,
   "id": "3f01e2e6",
   "metadata": {},
   "outputs": [],
   "source": [
    "frame_width = 512.0\n",
    "sample_frequence = 44100.0\n",
    "pitch = 20"
   ]
  },
  {
   "cell_type": "code",
   "execution_count": null,
   "id": "1d64fa3e",
   "metadata": {},
   "outputs": [],
   "source": [
    "matY = np.load('Res Base/y_hat.npy')"
   ]
  },
  {
   "cell_type": "code",
   "execution_count": null,
   "id": "90c9213b",
   "metadata": {},
   "outputs": [],
   "source": [
    "output_file = 'Res Base'"
   ]
  },
  {
   "cell_type": "code",
   "execution_count": null,
   "id": "2966207a",
   "metadata": {},
   "outputs": [],
   "source": [
    "for col in np.transpose(matY):\n",
    "    startTime = 0.0\n",
    "    endTime = 0.0\n",
    "    pitch += 1\n",
    "    status = False\n",
    "    for idx, i in enumerate(col):\n",
    "        if i > 0.5 and status == False:\n",
    "            startTime = idx * frame_width / sample_frequence\n",
    "            status = True\n",
    "        if i < 0.1 and status == True:\n",
    "            endTime = idx * frame_width / sample_frequence\n",
    "            status = False\n",
    "            if endTime - startTime > 0.02:\n",
    "                MyMIDI.addNote(track, channel, pitch, startTime, endTime - startTime, volume)\n",
    "                file.write(\"%f, %f, %d\\n\" % (startTime, endTime, pitch))\n",
    "    if status:\n",
    "        if (len(col) * frame_width - 0.5) / sample_frequence - startTime > 0.02:\n",
    "            MyMIDI.addNote(track, channel, pitch, startTime, (len(col) * frame_width - 0.5) / sample_frequence - startTime, volume)\n",
    "            #file.write(\"%f, %f, %d\\n\" % (startTime, (len(col) * frame_width - 0.5) / sample_frequence, pitch))\n",
    "#file.close()\n",
    "\n",
    "# with open(\"sample.mid\", \"wb\") as output_file:\n",
    "with open(\"major-scale.mid\", \"wb\") as output_file:\n",
    "    MyMIDI.writeFile(output_file)"
   ]
  }
 ],
 "metadata": {
  "kernelspec": {
   "display_name": "Python 3 (ipykernel)",
   "language": "python",
   "name": "python3"
  },
  "language_info": {
   "codemirror_mode": {
    "name": "ipython",
    "version": 3
   },
   "file_extension": ".py",
   "mimetype": "text/x-python",
   "name": "python",
   "nbconvert_exporter": "python",
   "pygments_lexer": "ipython3",
   "version": "3.10.8"
  }
 },
 "nbformat": 4,
 "nbformat_minor": 5
}
