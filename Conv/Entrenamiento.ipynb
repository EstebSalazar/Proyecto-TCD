{
 "cells": [
  {
   "cell_type": "code",
   "execution_count": 1,
   "id": "30c2568e",
   "metadata": {},
   "outputs": [
    {
     "name": "stdout",
     "output_type": "stream",
     "text": [
      "Requirement already satisfied: numpy in c:\\users\\emmanuel salazar\\appdata\\local\\packages\\pythonsoftwarefoundation.python.3.10_qbz5n2kfra8p0\\localcache\\local-packages\\python310\\site-packages (1.23.4)\n"
     ]
    },
    {
     "name": "stderr",
     "output_type": "stream",
     "text": [
      "WARNING: Ignoring invalid distribution -yproj (c:\\users\\emmanuel salazar\\appdata\\local\\packages\\pythonsoftwarefoundation.python.3.10_qbz5n2kfra8p0\\localcache\\local-packages\\python310\\site-packages)\n",
      "WARNING: Ignoring invalid distribution -yproj (c:\\users\\emmanuel salazar\\appdata\\local\\packages\\pythonsoftwarefoundation.python.3.10_qbz5n2kfra8p0\\localcache\\local-packages\\python310\\site-packages)\n",
      "WARNING: Ignoring invalid distribution -yproj (c:\\users\\emmanuel salazar\\appdata\\local\\packages\\pythonsoftwarefoundation.python.3.10_qbz5n2kfra8p0\\localcache\\local-packages\\python310\\site-packages)\n",
      "WARNING: Ignoring invalid distribution -yproj (c:\\users\\emmanuel salazar\\appdata\\local\\packages\\pythonsoftwarefoundation.python.3.10_qbz5n2kfra8p0\\localcache\\local-packages\\python310\\site-packages)\n",
      "WARNING: Ignoring invalid distribution -yproj (c:\\users\\emmanuel salazar\\appdata\\local\\packages\\pythonsoftwarefoundation.python.3.10_qbz5n2kfra8p0\\localcache\\local-packages\\python310\\site-packages)\n",
      "WARNING: Ignoring invalid distribution -yproj (c:\\users\\emmanuel salazar\\appdata\\local\\packages\\pythonsoftwarefoundation.python.3.10_qbz5n2kfra8p0\\localcache\\local-packages\\python310\\site-packages)\n"
     ]
    }
   ],
   "source": [
    "!pip install --upgrade numpy"
   ]
  },
  {
   "cell_type": "code",
   "execution_count": 1,
   "id": "636b5448",
   "metadata": {},
   "outputs": [],
   "source": [
    "import numpy as np\n",
    "import os\n",
    "import statistics \n",
    "from tqdm.notebook import tqdm\n",
    "import torch\n",
    "from torch.optim import Adam\n",
    "import matplotlib.pyplot as plt"
   ]
  },
  {
   "cell_type": "code",
   "execution_count": 2,
   "id": "9bf536fd",
   "metadata": {},
   "outputs": [
    {
     "name": "stdout",
     "output_type": "stream",
     "text": [
      "cuda\n"
     ]
    }
   ],
   "source": [
    "# Usamos cuda\n",
    "device = 'cuda' if torch.cuda.is_available() else 'cpu'\n",
    "print(device)"
   ]
  },
  {
   "cell_type": "code",
   "execution_count": 3,
   "id": "8153ea99",
   "metadata": {},
   "outputs": [],
   "source": [
    "l = os.listdir('Train np')\n",
    "lis=[]\n",
    "for arch in l:\n",
    "    if arch.startswith('x_'):\n",
    "        lis.append(arch)"
   ]
  },
  {
   "cell_type": "code",
   "execution_count": 4,
   "id": "ec04eafe",
   "metadata": {},
   "outputs": [],
   "source": [
    "mean = np.load('Res/x_mean.npy')\n",
    "std = np.load('Res/x_std.npy')"
   ]
  },
  {
   "cell_type": "code",
   "execution_count": 5,
   "id": "a9c687da",
   "metadata": {},
   "outputs": [
    {
     "data": {
      "application/vnd.jupyter.widget-view+json": {
       "model_id": "e42ec0c7f5794603aed534b61ffa3020",
       "version_major": 2,
       "version_minor": 0
      },
      "text/plain": [
       "  0%|          | 0/210 [00:00<?, ?it/s]"
      ]
     },
     "metadata": {},
     "output_type": "display_data"
    }
   ],
   "source": [
    "X_train=[]\n",
    "Y_train=[]\n",
    "for mus in tqdm(lis):\n",
    "    x = np.load('Train np/'+mus)\n",
    "    y = np.load('Train np/'+mus.replace('x_','y_'))\n",
    "    x = np.nan_to_num((x - mean)/std)\n",
    "    x = np.pad(x, ((3,3), (0,0)), 'constant', constant_values = 0)\n",
    "    for i in range(x.shape[0]-6):\n",
    "        X_train.append(torch.from_numpy(x[i:i+7]).float())\n",
    "        Y_train.append(torch.from_numpy(y[i]).float())"
   ]
  },
  {
   "cell_type": "code",
   "execution_count": 6,
   "id": "357cf15d",
   "metadata": {},
   "outputs": [],
   "source": [
    "l = os.listdir('Test np')\n",
    "lis=[]\n",
    "for arch in l:\n",
    "    if arch.startswith('x_'):\n",
    "        lis.append(arch)"
   ]
  },
  {
   "cell_type": "code",
   "execution_count": 7,
   "id": "3c51a69a",
   "metadata": {},
   "outputs": [
    {
     "data": {
      "application/vnd.jupyter.widget-view+json": {
       "model_id": "4d5406fe93dc4d84a3824fe63bbca8b4",
       "version_major": 2,
       "version_minor": 0
      },
      "text/plain": [
       "  0%|          | 0/60 [00:00<?, ?it/s]"
      ]
     },
     "metadata": {},
     "output_type": "display_data"
    }
   ],
   "source": [
    "X_test=[]\n",
    "Y_test=[]\n",
    "for mus in tqdm(lis):\n",
    "    x = np.load('Test np/'+mus)\n",
    "    y = np.load('Test np/'+mus.replace('x_','y_'))\n",
    "    x = np.nan_to_num((x - mean)/std)\n",
    "    x = np.pad(x, ((3,3), (0,0)), 'constant', constant_values = 0)\n",
    "    for i in range(x.shape[0]-6):\n",
    "        X_test.append(torch.from_numpy(x[i:i+7]).float())\n",
    "        Y_test.append(torch.from_numpy(y[i]).float())"
   ]
  },
  {
   "cell_type": "code",
   "execution_count": 8,
   "id": "f087e446",
   "metadata": {},
   "outputs": [],
   "source": [
    "from torch.utils.data import Dataset\n",
    "\n",
    "class TrainData(Dataset):\n",
    "    def __init__(self):\n",
    "        self.samples = X_train\n",
    "        self.labels = Y_train\n",
    "\n",
    "    def __len__(self):\n",
    "        return len(self.samples)\n",
    "\n",
    "    def __getitem__(self, idx):\n",
    "        return self.samples[idx], self.labels[idx]"
   ]
  },
  {
   "cell_type": "code",
   "execution_count": 9,
   "id": "8c7d9da7",
   "metadata": {},
   "outputs": [],
   "source": [
    "class TestData(Dataset):\n",
    "    def __init__(self):\n",
    "        self.samples = X_test\n",
    "        self.labels = Y_test\n",
    "\n",
    "    def __len__(self):\n",
    "        return len(self.samples)\n",
    "\n",
    "    def __getitem__(self, idx):\n",
    "        return self.samples[idx], self.labels[idx]"
   ]
  },
  {
   "cell_type": "code",
   "execution_count": 10,
   "id": "58d065b4",
   "metadata": {},
   "outputs": [],
   "source": [
    "Traindata = TrainData()\n",
    "Testdata = TestData()"
   ]
  },
  {
   "cell_type": "code",
   "execution_count": 11,
   "id": "8236a5b3",
   "metadata": {},
   "outputs": [],
   "source": [
    "batch_size = 500\n",
    "train_loader = torch.utils.data.DataLoader(dataset=Traindata, batch_size=batch_size, shuffle=True)\n",
    "test_loader = torch.utils.data.DataLoader(dataset=Testdata, batch_size=batch_size, shuffle=True)"
   ]
  },
  {
   "cell_type": "code",
   "execution_count": 12,
   "id": "de21979f",
   "metadata": {},
   "outputs": [],
   "source": [
    "import torch.nn as nn"
   ]
  },
  {
   "cell_type": "code",
   "execution_count": 21,
   "id": "7ef0b8fa",
   "metadata": {},
   "outputs": [],
   "source": [
    "def TrainModel(model, loss_fn, optimizer, train_loader, val_loader, epochs=10):\n",
    "    Tl=[]\n",
    "    Vl=[]\n",
    "    Va=[]\n",
    "    for i in range(1, epochs+1):\n",
    "        losses = []\n",
    "        for X, Y in tqdm(train_loader):\n",
    "            X = X.to(device)\n",
    "            Y = Y.to(device)\n",
    "            Y_preds = model(X)\n",
    "            loss = loss_fn(Y_preds, Y)\n",
    "            losses.append(loss.item())\n",
    "\n",
    "            optimizer.zero_grad()\n",
    "            loss.backward()\n",
    "            optimizer.step()\n",
    "        print(i)\n",
    "        print(\"Train Loss : {:.3f}\".format(torch.tensor(losses).mean()))\n",
    "        Tl.append(torch.tensor(losses).mean())\n",
    "        vl = CalcValLossAndAccuracy(model, loss_fn, val_loader)\n",
    "        Vl.append(vl)\n",
    "    plt.plot(Tl, label = \"Loss Entrenamiento\")\n",
    "    plt.plot(Vl, label= \"Loss Validacion\")\n",
    "    plt.legend()\n",
    "    plt.show()"
   ]
  },
  {
   "cell_type": "code",
   "execution_count": 20,
   "id": "bb9bfba2",
   "metadata": {},
   "outputs": [],
   "source": [
    "#Calcular perdida y accuracy de test\n",
    "def CalcValLossAndAccuracy(model, loss_fn, val_loader):\n",
    "    with torch.no_grad():\n",
    "        Y_shuffled, Y_preds, losses = [],[],[]\n",
    "        for X, Y in tqdm(val_loader):\n",
    "            X = X.to(device)\n",
    "            Y = Y.to(device)\n",
    "            preds = model(X)\n",
    "            loss = loss_fn(preds, Y)\n",
    "            losses.append(loss.item())\n",
    "\n",
    "            Y_shuffled.append(Y)\n",
    "            Y_preds.append(preds.argmax(dim=-1))\n",
    "        print(\"Valid Loss : {:.3f}\".format(torch.tensor(losses).mean()))\n",
    "        return(torch.tensor(losses).mean())"
   ]
  },
  {
   "cell_type": "code",
   "execution_count": 17,
   "id": "f1bd9eb8",
   "metadata": {},
   "outputs": [],
   "source": [
    "class create_model(nn.Module):\n",
    "    def __init__(self):\n",
    "        super().__init__()\n",
    "        self.conv1 = nn.Conv2d(in_channels=1, out_channels=50, kernel_size=(5,25), padding=0)\n",
    "        self.pool = nn.MaxPool2d(kernel_size=(1,3), stride=1)\n",
    "        self.conv2 = nn.Conv2d(in_channels=50, out_channels=50, kernel_size=(3,5), padding=0)\n",
    "        self.linear1 = nn.Linear(11000, 1000)\n",
    "        self.linear2 = nn.Linear(1000, 200)\n",
    "        self.linear3 = nn.Linear(200, 88)\n",
    "        self.Drop   = nn.Dropout(0.2)\n",
    "        self.ReLU   = nn.ReLU()\n",
    "        self.Sig     = nn.Sigmoid()\n",
    "        \n",
    "        \n",
    "    def forward(self, x): \n",
    "        x = x.reshape(-1, 7,252, 1)\n",
    "        x = x.permute(0, 3, 1, 2)\n",
    "        x = self.Drop(self.ReLU(self.conv1(x)))\n",
    "        x = self.pool(x)\n",
    "        x = self.Drop(self.ReLU(self.conv2(x)))\n",
    "        x = self.pool(x)\n",
    "        x = torch.flatten(x, 1)\n",
    "        x = self.Drop(self.ReLU(self.linear1(x)))\n",
    "        x = self.Drop(self.ReLU(self.linear2(x)))\n",
    "        x = self.Sig(self.linear3(x))\n",
    "        return x"
   ]
  },
  {
   "cell_type": "code",
   "execution_count": 22,
   "id": "2c879e43",
   "metadata": {},
   "outputs": [
    {
     "data": {
      "application/vnd.jupyter.widget-view+json": {
       "model_id": "8ca3047b3f8a47d7a603448f0d832333",
       "version_major": 2,
       "version_minor": 0
      },
      "text/plain": [
       "  0%|          | 0/8498 [00:00<?, ?it/s]"
      ]
     },
     "metadata": {},
     "output_type": "display_data"
    },
    {
     "name": "stdout",
     "output_type": "stream",
     "text": [
      "1\n",
      "Train Loss : 0.058\n"
     ]
    },
    {
     "data": {
      "application/vnd.jupyter.widget-view+json": {
       "model_id": "90976e8975bc48448395ce97f5c974ca",
       "version_major": 2,
       "version_minor": 0
      },
      "text/plain": [
       "  0%|          | 0/2699 [00:00<?, ?it/s]"
      ]
     },
     "metadata": {},
     "output_type": "display_data"
    },
    {
     "name": "stdout",
     "output_type": "stream",
     "text": [
      "Valid Loss : 0.105\n"
     ]
    },
    {
     "data": {
      "application/vnd.jupyter.widget-view+json": {
       "model_id": "068124fe39d74637b945989ec9841235",
       "version_major": 2,
       "version_minor": 0
      },
      "text/plain": [
       "  0%|          | 0/8498 [00:00<?, ?it/s]"
      ]
     },
     "metadata": {},
     "output_type": "display_data"
    },
    {
     "name": "stdout",
     "output_type": "stream",
     "text": [
      "2\n",
      "Train Loss : 0.040\n"
     ]
    },
    {
     "data": {
      "application/vnd.jupyter.widget-view+json": {
       "model_id": "9483b0cc3bdc4637aa0027fd0e150d6d",
       "version_major": 2,
       "version_minor": 0
      },
      "text/plain": [
       "  0%|          | 0/2699 [00:00<?, ?it/s]"
      ]
     },
     "metadata": {},
     "output_type": "display_data"
    },
    {
     "name": "stdout",
     "output_type": "stream",
     "text": [
      "Valid Loss : 0.113\n"
     ]
    },
    {
     "data": {
      "application/vnd.jupyter.widget-view+json": {
       "model_id": "1ff58c41a82e4c43bd65476128327992",
       "version_major": 2,
       "version_minor": 0
      },
      "text/plain": [
       "  0%|          | 0/8498 [00:00<?, ?it/s]"
      ]
     },
     "metadata": {},
     "output_type": "display_data"
    },
    {
     "name": "stdout",
     "output_type": "stream",
     "text": [
      "3\n",
      "Train Loss : 0.036\n"
     ]
    },
    {
     "data": {
      "application/vnd.jupyter.widget-view+json": {
       "model_id": "f57105568ee549a9a8978754e1db5bba",
       "version_major": 2,
       "version_minor": 0
      },
      "text/plain": [
       "  0%|          | 0/2699 [00:00<?, ?it/s]"
      ]
     },
     "metadata": {},
     "output_type": "display_data"
    },
    {
     "name": "stdout",
     "output_type": "stream",
     "text": [
      "Valid Loss : 0.118\n"
     ]
    },
    {
     "data": {
      "application/vnd.jupyter.widget-view+json": {
       "model_id": "dccf3d3b8ce849e4a68236fc54c986d8",
       "version_major": 2,
       "version_minor": 0
      },
      "text/plain": [
       "  0%|          | 0/8498 [00:00<?, ?it/s]"
      ]
     },
     "metadata": {},
     "output_type": "display_data"
    },
    {
     "name": "stdout",
     "output_type": "stream",
     "text": [
      "4\n",
      "Train Loss : 0.034\n"
     ]
    },
    {
     "data": {
      "application/vnd.jupyter.widget-view+json": {
       "model_id": "9828aa7ff2a541c6b4c1bf742fed8bc1",
       "version_major": 2,
       "version_minor": 0
      },
      "text/plain": [
       "  0%|          | 0/2699 [00:00<?, ?it/s]"
      ]
     },
     "metadata": {},
     "output_type": "display_data"
    },
    {
     "name": "stdout",
     "output_type": "stream",
     "text": [
      "Valid Loss : 0.118\n"
     ]
    },
    {
     "data": {
      "application/vnd.jupyter.widget-view+json": {
       "model_id": "a3ffa1389cfb4497a8ad91ed5590c90a",
       "version_major": 2,
       "version_minor": 0
      },
      "text/plain": [
       "  0%|          | 0/8498 [00:00<?, ?it/s]"
      ]
     },
     "metadata": {},
     "output_type": "display_data"
    },
    {
     "name": "stdout",
     "output_type": "stream",
     "text": [
      "5\n",
      "Train Loss : 0.033\n"
     ]
    },
    {
     "data": {
      "application/vnd.jupyter.widget-view+json": {
       "model_id": "bc22e204eb9f404f97c7e8158a4ee983",
       "version_major": 2,
       "version_minor": 0
      },
      "text/plain": [
       "  0%|          | 0/2699 [00:00<?, ?it/s]"
      ]
     },
     "metadata": {},
     "output_type": "display_data"
    },
    {
     "name": "stdout",
     "output_type": "stream",
     "text": [
      "Valid Loss : 0.125\n"
     ]
    },
    {
     "ename": "NameError",
     "evalue": "name 'plt' is not defined",
     "output_type": "error",
     "traceback": [
      "\u001b[1;31m---------------------------------------------------------------------------\u001b[0m",
      "\u001b[1;31mNameError\u001b[0m                                 Traceback (most recent call last)",
      "Input \u001b[1;32mIn [22]\u001b[0m, in \u001b[0;36m<module>\u001b[1;34m\u001b[0m\n\u001b[0;32m      6\u001b[0m classifier\u001b[38;5;241m.\u001b[39mto(device)\n\u001b[0;32m      7\u001b[0m optimizer \u001b[38;5;241m=\u001b[39m Adam(classifier\u001b[38;5;241m.\u001b[39mparameters(), lr\u001b[38;5;241m=\u001b[39mlearning_rate)\n\u001b[1;32m----> 9\u001b[0m \u001b[43mTrainModel\u001b[49m\u001b[43m(\u001b[49m\u001b[43mclassifier\u001b[49m\u001b[43m,\u001b[49m\u001b[43m \u001b[49m\u001b[43mloss_fn\u001b[49m\u001b[43m,\u001b[49m\u001b[43m \u001b[49m\u001b[43moptimizer\u001b[49m\u001b[43m,\u001b[49m\u001b[43m \u001b[49m\u001b[43mtrain_loader\u001b[49m\u001b[43m,\u001b[49m\u001b[43m \u001b[49m\u001b[43mtest_loader\u001b[49m\u001b[43m,\u001b[49m\u001b[43m \u001b[49m\u001b[43mepochs\u001b[49m\u001b[43m)\u001b[49m\n",
      "Input \u001b[1;32mIn [21]\u001b[0m, in \u001b[0;36mTrainModel\u001b[1;34m(model, loss_fn, optimizer, train_loader, val_loader, epochs)\u001b[0m\n\u001b[0;32m     20\u001b[0m     vl \u001b[38;5;241m=\u001b[39m CalcValLossAndAccuracy(model, loss_fn, val_loader)\n\u001b[0;32m     21\u001b[0m     Vl\u001b[38;5;241m.\u001b[39mappend(vl)\n\u001b[1;32m---> 22\u001b[0m \u001b[43mplt\u001b[49m\u001b[38;5;241m.\u001b[39mplot(Tl, label \u001b[38;5;241m=\u001b[39m \u001b[38;5;124m\"\u001b[39m\u001b[38;5;124mLoss Entrenamiento\u001b[39m\u001b[38;5;124m\"\u001b[39m)\n\u001b[0;32m     23\u001b[0m plt\u001b[38;5;241m.\u001b[39mplot(Vl, label\u001b[38;5;241m=\u001b[39m \u001b[38;5;124m\"\u001b[39m\u001b[38;5;124mLoss Validacion\u001b[39m\u001b[38;5;124m\"\u001b[39m)\n\u001b[0;32m     24\u001b[0m plt\u001b[38;5;241m.\u001b[39mlegend()\n",
      "\u001b[1;31mNameError\u001b[0m: name 'plt' is not defined"
     ]
    }
   ],
   "source": [
    "epochs = 5\n",
    "learning_rate = 1e-4\n",
    "\n",
    "loss_fn = nn.BCELoss()\n",
    "classifier = create_model()\n",
    "classifier.to(device)\n",
    "optimizer = Adam(classifier.parameters(), lr=learning_rate)\n",
    "\n",
    "TrainModel(classifier, loss_fn, optimizer, train_loader, test_loader, epochs)"
   ]
  },
  {
   "cell_type": "code",
   "execution_count": 40,
   "id": "a2eb3eab",
   "metadata": {},
   "outputs": [],
   "source": [
    "torch.save(classifier.state_dict(), 'Res/model')"
   ]
  },
  {
   "cell_type": "code",
   "execution_count": 32,
   "id": "2f59762d",
   "metadata": {},
   "outputs": [
    {
     "data": {
      "text/plain": [
       "create_model(\n",
       "  (conv1): Conv2d(1, 50, kernel_size=(5, 25), stride=(1, 1))\n",
       "  (pool): MaxPool2d(kernel_size=(1, 3), stride=1, padding=0, dilation=1, ceil_mode=False)\n",
       "  (conv2): Conv2d(50, 50, kernel_size=(3, 5), stride=(1, 1))\n",
       "  (linear1): Linear(in_features=11000, out_features=1000, bias=True)\n",
       "  (linear2): Linear(in_features=1000, out_features=200, bias=True)\n",
       "  (linear3): Linear(in_features=200, out_features=88, bias=True)\n",
       "  (Drop): Dropout(p=0.2, inplace=False)\n",
       "  (ReLU): ReLU()\n",
       "  (Sig): Sigmoid()\n",
       ")"
      ]
     },
     "execution_count": 32,
     "metadata": {},
     "output_type": "execute_result"
    }
   ],
   "source": [
    "classifier.to('cpu')\n",
    "classifier.eval()"
   ]
  },
  {
   "cell_type": "code",
   "execution_count": 28,
   "id": "f86ef92d",
   "metadata": {},
   "outputs": [],
   "source": [
    "X=[]\n",
    "X_test = x = np.load('Test np/x_MAPS_MUS-mz_331_3_ENSTDkCl.npy')\n",
    "X_test = np.nan_to_num((X_test - mean)/std)\n",
    "X_test = np.pad(X_test, ((3,3), (0,0)), 'constant', constant_values = 0)\n",
    "for i in range(x.shape[0]-6):\n",
    "    X.append(torch.from_numpy(X_test[i:i+7]).float())"
   ]
  },
  {
   "cell_type": "code",
   "execution_count": 33,
   "id": "6004dc10",
   "metadata": {},
   "outputs": [],
   "source": [
    "Y = []\n",
    "for k in X:\n",
    "    Y.append(classifier(k))"
   ]
  },
  {
   "cell_type": "code",
   "execution_count": 34,
   "id": "b951486e",
   "metadata": {},
   "outputs": [],
   "source": [
    "y_hat = torch.cat(Y)"
   ]
  },
  {
   "cell_type": "code",
   "execution_count": 37,
   "id": "3bd04766",
   "metadata": {},
   "outputs": [],
   "source": [
    "y_hat = y_hat.detach().numpy()"
   ]
  },
  {
   "cell_type": "code",
   "execution_count": 38,
   "id": "b84a3182",
   "metadata": {},
   "outputs": [],
   "source": [
    "Y_pred = 1.0 * ( np.array(y_hat) > 0.5)"
   ]
  },
  {
   "cell_type": "code",
   "execution_count": 39,
   "id": "d2eb4003",
   "metadata": {},
   "outputs": [],
   "source": [
    "np.save('Res/y_hat.npy', Y_pred)"
   ]
  }
 ],
 "metadata": {
  "kernelspec": {
   "display_name": "Python 3 (ipykernel)",
   "language": "python",
   "name": "python3"
  },
  "language_info": {
   "codemirror_mode": {
    "name": "ipython",
    "version": 3
   },
   "file_extension": ".py",
   "mimetype": "text/x-python",
   "name": "python",
   "nbconvert_exporter": "python",
   "pygments_lexer": "ipython3",
   "version": "3.10.8"
  }
 },
 "nbformat": 4,
 "nbformat_minor": 5
}
