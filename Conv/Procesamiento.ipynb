{
 "cells": [
  {
   "cell_type": "code",
   "execution_count": 1,
   "id": "f979590c",
   "metadata": {},
   "outputs": [],
   "source": [
    "import librosa\n",
    "import librosa.display\n",
    "import numpy as np\n",
    "import os\n",
    "import statistics \n",
    "from tqdm.notebook import tqdm"
   ]
  },
  {
   "cell_type": "code",
   "execution_count": 2,
   "id": "c2c62def",
   "metadata": {},
   "outputs": [],
   "source": [
    "l = os.listdir('Train')"
   ]
  },
  {
   "cell_type": "code",
   "execution_count": 3,
   "id": "b0afe703",
   "metadata": {},
   "outputs": [],
   "source": [
    "lis=[]\n",
    "for arch in l:\n",
    "    if arch.endswith('.txt'):\n",
    "        lis.append(arch)"
   ]
  },
  {
   "cell_type": "code",
   "execution_count": 4,
   "id": "08582bac",
   "metadata": {},
   "outputs": [],
   "source": [
    "sr=44100"
   ]
  },
  {
   "cell_type": "code",
   "execution_count": 5,
   "id": "a0f16f08",
   "metadata": {},
   "outputs": [
    {
     "data": {
      "application/vnd.jupyter.widget-view+json": {
       "model_id": "bab49efb40af47079e6f604f5a25aa8c",
       "version_major": 2,
       "version_minor": 0
      },
      "text/plain": [
       "  0%|          | 0/210 [00:00<?, ?it/s]"
      ]
     },
     "metadata": {},
     "output_type": "display_data"
    }
   ],
   "source": [
    "for mus in tqdm(range(len(lis))):\n",
    "    #Se carga el achivo de audio\n",
    "    aux,sr = librosa.core.load('Train/'+lis[mus].replace('.txt','.wav'),sr=sr, mono=True)\n",
    "    X = np.abs(librosa.cqt(aux, sr=sr, hop_length=512, n_bins=252, bins_per_octave=36)).transpose()\n",
    "    #Se lee el txt\n",
    "    f=open('Train/'+lis[mus],'r')\n",
    "    L=f.readlines()\n",
    "    f.close()\n",
    "    #Se guarda el inicio de la melodia\n",
    "    inicio=librosa.time_to_frames(float(L[1].split()[0]), sr=sr)\n",
    "    #Se recorta la melodia\n",
    "    X = X[inicio:,:]\n",
    "    #Se guarda el tamaño de la melodia\n",
    "    nf = X.shape[0]\n",
    "    #Se genera la matriz donde se guardara el piano roll\n",
    "    y = np.zeros((nf, 88))\n",
    "    #Se va guardando las notas\n",
    "    for i in range(1,len(L)):\n",
    "        k, j, p = float(L[i].split()[0]), float(L[i].split()[1]), int(L[i].split()[2])\n",
    "        k, j, p = librosa.time_to_frames(k, sr=sr), librosa.time_to_frames(j, sr=sr), p-21\n",
    "        y[(k-inicio):(j-inicio),p] = 1\n",
    "    np.save('Train np/x_'+lis[mus].replace('.txt','')+'.npy', X)\n",
    "    np.save('Train np/y_'+lis[mus].replace('.txt','')+'.npy', y)"
   ]
  },
  {
   "cell_type": "code",
   "execution_count": 6,
   "id": "172e77a4",
   "metadata": {},
   "outputs": [],
   "source": [
    "l = os.listdir('Test')"
   ]
  },
  {
   "cell_type": "code",
   "execution_count": 7,
   "id": "e4e1ee0f",
   "metadata": {},
   "outputs": [],
   "source": [
    "lis=[]\n",
    "for arch in l:\n",
    "    if arch.endswith('.txt'):\n",
    "        lis.append(arch)"
   ]
  },
  {
   "cell_type": "code",
   "execution_count": 9,
   "id": "621e67fd",
   "metadata": {},
   "outputs": [
    {
     "data": {
      "application/vnd.jupyter.widget-view+json": {
       "model_id": "db1b67cd03f648749b77f42be3c600b6",
       "version_major": 2,
       "version_minor": 0
      },
      "text/plain": [
       "  0%|          | 0/60 [00:00<?, ?it/s]"
      ]
     },
     "metadata": {},
     "output_type": "display_data"
    }
   ],
   "source": [
    "for mus in tqdm(range(len(lis))):\n",
    "    #Se carga el achivo de audio\n",
    "    aux,sr = librosa.core.load('Test/'+lis[mus].replace('.txt','.wav'),sr=sr, mono=True)\n",
    "    X = np.abs(librosa.cqt(aux, sr=sr, hop_length=512, n_bins=252, bins_per_octave=36)).transpose()\n",
    "    #Se lee el txt\n",
    "    f=open('Test/'+lis[mus],'r')\n",
    "    L=f.readlines()\n",
    "    f.close()\n",
    "    #Se guarda el inicio de la melodia\n",
    "    inicio=librosa.time_to_frames(float(L[1].split()[0]), sr=sr)\n",
    "    #Se recorta la melodia\n",
    "    X = X[inicio:,:]\n",
    "    #Se guarda el tamaño de la melodia\n",
    "    nf = X.shape[0]\n",
    "    #Se genera la matriz donde se guardara el piano roll\n",
    "    y = np.zeros((nf, 88))\n",
    "    #Se va guardando las notas\n",
    "    for i in range(1,len(L)):\n",
    "        k, j, p = float(L[i].split()[0]), float(L[i].split()[1]), int(L[i].split()[2])\n",
    "        k, j, p = librosa.time_to_frames(k, sr=sr), librosa.time_to_frames(j, sr=sr), p-21\n",
    "        y[(k-inicio):(j-inicio),p] = 1\n",
    "    np.save('Test np/x_'+lis[mus].replace('.txt','')+'.npy', X)\n",
    "    np.save('Test np/y_'+lis[mus].replace('.txt','')+'.npy', y)"
   ]
  }
 ],
 "metadata": {
  "kernelspec": {
   "display_name": "Python 3 (ipykernel)",
   "language": "python",
   "name": "python3"
  },
  "language_info": {
   "codemirror_mode": {
    "name": "ipython",
    "version": 3
   },
   "file_extension": ".py",
   "mimetype": "text/x-python",
   "name": "python",
   "nbconvert_exporter": "python",
   "pygments_lexer": "ipython3",
   "version": "3.10.8"
  }
 },
 "nbformat": 4,
 "nbformat_minor": 5
}
